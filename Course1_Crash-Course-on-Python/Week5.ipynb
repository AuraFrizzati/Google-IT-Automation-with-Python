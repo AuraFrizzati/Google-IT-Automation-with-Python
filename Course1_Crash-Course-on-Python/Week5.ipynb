{
  "nbformat": 4,
  "nbformat_minor": 0,
  "metadata": {
    "colab": {
      "name": "Week5.ipynb",
      "provenance": [],
      "collapsed_sections": []
    },
    "kernelspec": {
      "name": "python3",
      "display_name": "Python 3"
    },
    "language_info": {
      "name": "python"
    }
  },
  "cells": [
    {
      "cell_type": "markdown",
      "metadata": {
        "id": "ap3WUZsIjbCH"
      },
      "source": [
        "# **Week 5: Object Oriented Programming (Optional)**\n",
        "In this module, you'll be introduced to the concept of **object-oriented programming**! You'll learn how to build your own **classes** with **unique attributes** and **methods**. You'll get a chance to write documentation for your classes and methods using **docstrings**. You'll learn all about **object instances** and **object inheritance**, as well as how to import and use **Python modules** to make use of powerful classes and methods. To round things out, you'll also be introduced to Jupyter notebooks, which we'll use to write and execute more complex code.\n",
        "\n",
        "## **Learning Objectives**\n",
        "- Demonstrate object-oriented programming using classes and objects\n",
        "- Implement classes with custom attributes and methods\n",
        "- Write docstrings to document classes and methods\n",
        "- Leverage inheritance to reduce code duplication\n",
        "- Import and use Python modules to access powerful classes and methods\n",
        "\n",
        "\n",
        "\n"
      ]
    },
    {
      "cell_type": "markdown",
      "metadata": {
        "id": "uAEIY1Vfja_H"
      },
      "source": [
        "## **5.1 Objected-oriented programming (OOP)**\n",
        "\n",
        "### **What is OOP?**\n",
        "- It is a flexible and powerful **paradigm** where **classes** represent and define **concepts**, while **objects** are **instances of classes**.\n",
        "- Almost everything in python is an object, including numbers, strings, lists and dictionaries.\n",
        "- **Attributes**: **characteristics** associated to a **type** (e.g. for type file, the attributes could be: date, permissions, name, size, etc,... There are so many differnt file attributes that python has multiple classes to deal with files).\n",
        "- **Methods**: **functions** associated to a **type** (e.g. for a file type, methods to read and modify the file).\n",
        "- In **object-oriented programming**, **concepts** are modeled as **classes** and **objects**. An idea is defined using a class, and an instance of this class is called an object. Almost everything in Python is an object, including strings, lists, dictionaries, and numbers. When we create a list in Python, we’re creating an object which is an instance of the list class, which represents the concept of a list. **Classes** also have **attributes** and **methods** associated with them. Attributes are the characteristics of the class, while methods are functions that are part of the class."
      ]
    },
    {
      "cell_type": "code",
      "metadata": {
        "colab": {
          "base_uri": "https://localhost:8080/"
        },
        "id": "Kfq4nRbx1rAs",
        "outputId": "5866fcbd-0399-4bae-bce2-08e35b5d0471"
      },
      "source": [
        "type(0)"
      ],
      "execution_count": null,
      "outputs": [
        {
          "output_type": "execute_result",
          "data": {
            "text/plain": [
              "int"
            ]
          },
          "metadata": {
            "tags": []
          },
          "execution_count": 1
        }
      ]
    },
    {
      "cell_type": "code",
      "metadata": {
        "colab": {
          "base_uri": "https://localhost:8080/"
        },
        "id": "GyXgJ4xw1t01",
        "outputId": "a6182a8c-484d-46a7-8539-4b82473e51dc"
      },
      "source": [
        "type(\"\")"
      ],
      "execution_count": null,
      "outputs": [
        {
          "output_type": "execute_result",
          "data": {
            "text/plain": [
              "str"
            ]
          },
          "metadata": {
            "tags": []
          },
          "execution_count": 2
        }
      ]
    },
    {
      "cell_type": "markdown",
      "metadata": {
        "id": "HwvUVyw_ja8I"
      },
      "source": [
        "- When using the `type()` function, python tells us which **class** the variable or value belongs to.\n",
        "- **String class** (`str`):\n",
        "   - **Attribute**: string's content\n",
        "   - **Methods**: a variety of methods, e.g. `upper()` ot `isnumeric()`\n",
        "\n",
        "To verify all the attributes and methods available for a class/object, we can use the `dir()` function:"
      ]
    },
    {
      "cell_type": "code",
      "metadata": {
        "colab": {
          "base_uri": "https://localhost:8080/"
        },
        "id": "KqLq8vTxjaei",
        "outputId": "8ba11042-a10d-4184-dc2d-9aa1b0157757"
      },
      "source": [
        "dir(\"\")"
      ],
      "execution_count": null,
      "outputs": [
        {
          "output_type": "execute_result",
          "data": {
            "text/plain": [
              "['__add__',\n",
              " '__class__',\n",
              " '__contains__',\n",
              " '__delattr__',\n",
              " '__dir__',\n",
              " '__doc__',\n",
              " '__eq__',\n",
              " '__format__',\n",
              " '__ge__',\n",
              " '__getattribute__',\n",
              " '__getitem__',\n",
              " '__getnewargs__',\n",
              " '__gt__',\n",
              " '__hash__',\n",
              " '__init__',\n",
              " '__init_subclass__',\n",
              " '__iter__',\n",
              " '__le__',\n",
              " '__len__',\n",
              " '__lt__',\n",
              " '__mod__',\n",
              " '__mul__',\n",
              " '__ne__',\n",
              " '__new__',\n",
              " '__reduce__',\n",
              " '__reduce_ex__',\n",
              " '__repr__',\n",
              " '__rmod__',\n",
              " '__rmul__',\n",
              " '__setattr__',\n",
              " '__sizeof__',\n",
              " '__str__',\n",
              " '__subclasshook__',\n",
              " 'capitalize',\n",
              " 'casefold',\n",
              " 'center',\n",
              " 'count',\n",
              " 'encode',\n",
              " 'endswith',\n",
              " 'expandtabs',\n",
              " 'find',\n",
              " 'format',\n",
              " 'format_map',\n",
              " 'index',\n",
              " 'isalnum',\n",
              " 'isalpha',\n",
              " 'isascii',\n",
              " 'isdecimal',\n",
              " 'isdigit',\n",
              " 'isidentifier',\n",
              " 'islower',\n",
              " 'isnumeric',\n",
              " 'isprintable',\n",
              " 'isspace',\n",
              " 'istitle',\n",
              " 'isupper',\n",
              " 'join',\n",
              " 'ljust',\n",
              " 'lower',\n",
              " 'lstrip',\n",
              " 'maketrans',\n",
              " 'partition',\n",
              " 'replace',\n",
              " 'rfind',\n",
              " 'rindex',\n",
              " 'rjust',\n",
              " 'rpartition',\n",
              " 'rsplit',\n",
              " 'rstrip',\n",
              " 'split',\n",
              " 'splitlines',\n",
              " 'startswith',\n",
              " 'strip',\n",
              " 'swapcase',\n",
              " 'title',\n",
              " 'translate',\n",
              " 'upper',\n",
              " 'zfill']"
            ]
          },
          "metadata": {
            "tags": []
          },
          "execution_count": 3
        }
      ]
    },
    {
      "cell_type": "markdown",
      "metadata": {
        "id": "ZlqgbObL2_I2"
      },
      "source": [
        "- **Special methods**: they begin and end with **double underscores**. These methods are usually called by some of the **internal python functions** (e.g. `__len__` is called by the `len()` function to find out the length of a string; or `__ge__` method is used to compare if one string is greater or equal in length to another one when using the `>=` operator)\n",
        "- The **help function** tells us **how to use the methods** of an object/class:"
      ]
    },
    {
      "cell_type": "code",
      "metadata": {
        "colab": {
          "base_uri": "https://localhost:8080/"
        },
        "id": "XFsexJ1djYHH",
        "outputId": "0dbcf86e-e2d5-4804-82b0-0617f6c359e5"
      },
      "source": [
        "help(\"\")"
      ],
      "execution_count": null,
      "outputs": [
        {
          "output_type": "stream",
          "text": [
            "Help on class str in module builtins:\n",
            "\n",
            "class str(object)\n",
            " |  str(object='') -> str\n",
            " |  str(bytes_or_buffer[, encoding[, errors]]) -> str\n",
            " |  \n",
            " |  Create a new string object from the given object. If encoding or\n",
            " |  errors is specified, then the object must expose a data buffer\n",
            " |  that will be decoded using the given encoding and error handler.\n",
            " |  Otherwise, returns the result of object.__str__() (if defined)\n",
            " |  or repr(object).\n",
            " |  encoding defaults to sys.getdefaultencoding().\n",
            " |  errors defaults to 'strict'.\n",
            " |  \n",
            " |  Methods defined here:\n",
            " |  \n",
            " |  __add__(self, value, /)\n",
            " |      Return self+value.\n",
            " |  \n",
            " |  __contains__(self, key, /)\n",
            " |      Return key in self.\n",
            " |  \n",
            " |  __eq__(self, value, /)\n",
            " |      Return self==value.\n",
            " |  \n",
            " |  __format__(self, format_spec, /)\n",
            " |      Return a formatted version of the string as described by format_spec.\n",
            " |  \n",
            " |  __ge__(self, value, /)\n",
            " |      Return self>=value.\n",
            " |  \n",
            " |  __getattribute__(self, name, /)\n",
            " |      Return getattr(self, name).\n",
            " |  \n",
            " |  __getitem__(self, key, /)\n",
            " |      Return self[key].\n",
            " |  \n",
            " |  __getnewargs__(...)\n",
            " |  \n",
            " |  __gt__(self, value, /)\n",
            " |      Return self>value.\n",
            " |  \n",
            " |  __hash__(self, /)\n",
            " |      Return hash(self).\n",
            " |  \n",
            " |  __iter__(self, /)\n",
            " |      Implement iter(self).\n",
            " |  \n",
            " |  __le__(self, value, /)\n",
            " |      Return self<=value.\n",
            " |  \n",
            " |  __len__(self, /)\n",
            " |      Return len(self).\n",
            " |  \n",
            " |  __lt__(self, value, /)\n",
            " |      Return self<value.\n",
            " |  \n",
            " |  __mod__(self, value, /)\n",
            " |      Return self%value.\n",
            " |  \n",
            " |  __mul__(self, value, /)\n",
            " |      Return self*value.\n",
            " |  \n",
            " |  __ne__(self, value, /)\n",
            " |      Return self!=value.\n",
            " |  \n",
            " |  __repr__(self, /)\n",
            " |      Return repr(self).\n",
            " |  \n",
            " |  __rmod__(self, value, /)\n",
            " |      Return value%self.\n",
            " |  \n",
            " |  __rmul__(self, value, /)\n",
            " |      Return value*self.\n",
            " |  \n",
            " |  __sizeof__(self, /)\n",
            " |      Return the size of the string in memory, in bytes.\n",
            " |  \n",
            " |  __str__(self, /)\n",
            " |      Return str(self).\n",
            " |  \n",
            " |  capitalize(self, /)\n",
            " |      Return a capitalized version of the string.\n",
            " |      \n",
            " |      More specifically, make the first character have upper case and the rest lower\n",
            " |      case.\n",
            " |  \n",
            " |  casefold(self, /)\n",
            " |      Return a version of the string suitable for caseless comparisons.\n",
            " |  \n",
            " |  center(self, width, fillchar=' ', /)\n",
            " |      Return a centered string of length width.\n",
            " |      \n",
            " |      Padding is done using the specified fill character (default is a space).\n",
            " |  \n",
            " |  count(...)\n",
            " |      S.count(sub[, start[, end]]) -> int\n",
            " |      \n",
            " |      Return the number of non-overlapping occurrences of substring sub in\n",
            " |      string S[start:end].  Optional arguments start and end are\n",
            " |      interpreted as in slice notation.\n",
            " |  \n",
            " |  encode(self, /, encoding='utf-8', errors='strict')\n",
            " |      Encode the string using the codec registered for encoding.\n",
            " |      \n",
            " |      encoding\n",
            " |        The encoding in which to encode the string.\n",
            " |      errors\n",
            " |        The error handling scheme to use for encoding errors.\n",
            " |        The default is 'strict' meaning that encoding errors raise a\n",
            " |        UnicodeEncodeError.  Other possible values are 'ignore', 'replace' and\n",
            " |        'xmlcharrefreplace' as well as any other name registered with\n",
            " |        codecs.register_error that can handle UnicodeEncodeErrors.\n",
            " |  \n",
            " |  endswith(...)\n",
            " |      S.endswith(suffix[, start[, end]]) -> bool\n",
            " |      \n",
            " |      Return True if S ends with the specified suffix, False otherwise.\n",
            " |      With optional start, test S beginning at that position.\n",
            " |      With optional end, stop comparing S at that position.\n",
            " |      suffix can also be a tuple of strings to try.\n",
            " |  \n",
            " |  expandtabs(self, /, tabsize=8)\n",
            " |      Return a copy where all tab characters are expanded using spaces.\n",
            " |      \n",
            " |      If tabsize is not given, a tab size of 8 characters is assumed.\n",
            " |  \n",
            " |  find(...)\n",
            " |      S.find(sub[, start[, end]]) -> int\n",
            " |      \n",
            " |      Return the lowest index in S where substring sub is found,\n",
            " |      such that sub is contained within S[start:end].  Optional\n",
            " |      arguments start and end are interpreted as in slice notation.\n",
            " |      \n",
            " |      Return -1 on failure.\n",
            " |  \n",
            " |  format(...)\n",
            " |      S.format(*args, **kwargs) -> str\n",
            " |      \n",
            " |      Return a formatted version of S, using substitutions from args and kwargs.\n",
            " |      The substitutions are identified by braces ('{' and '}').\n",
            " |  \n",
            " |  format_map(...)\n",
            " |      S.format_map(mapping) -> str\n",
            " |      \n",
            " |      Return a formatted version of S, using substitutions from mapping.\n",
            " |      The substitutions are identified by braces ('{' and '}').\n",
            " |  \n",
            " |  index(...)\n",
            " |      S.index(sub[, start[, end]]) -> int\n",
            " |      \n",
            " |      Return the lowest index in S where substring sub is found, \n",
            " |      such that sub is contained within S[start:end].  Optional\n",
            " |      arguments start and end are interpreted as in slice notation.\n",
            " |      \n",
            " |      Raises ValueError when the substring is not found.\n",
            " |  \n",
            " |  isalnum(self, /)\n",
            " |      Return True if the string is an alpha-numeric string, False otherwise.\n",
            " |      \n",
            " |      A string is alpha-numeric if all characters in the string are alpha-numeric and\n",
            " |      there is at least one character in the string.\n",
            " |  \n",
            " |  isalpha(self, /)\n",
            " |      Return True if the string is an alphabetic string, False otherwise.\n",
            " |      \n",
            " |      A string is alphabetic if all characters in the string are alphabetic and there\n",
            " |      is at least one character in the string.\n",
            " |  \n",
            " |  isascii(self, /)\n",
            " |      Return True if all characters in the string are ASCII, False otherwise.\n",
            " |      \n",
            " |      ASCII characters have code points in the range U+0000-U+007F.\n",
            " |      Empty string is ASCII too.\n",
            " |  \n",
            " |  isdecimal(self, /)\n",
            " |      Return True if the string is a decimal string, False otherwise.\n",
            " |      \n",
            " |      A string is a decimal string if all characters in the string are decimal and\n",
            " |      there is at least one character in the string.\n",
            " |  \n",
            " |  isdigit(self, /)\n",
            " |      Return True if the string is a digit string, False otherwise.\n",
            " |      \n",
            " |      A string is a digit string if all characters in the string are digits and there\n",
            " |      is at least one character in the string.\n",
            " |  \n",
            " |  isidentifier(self, /)\n",
            " |      Return True if the string is a valid Python identifier, False otherwise.\n",
            " |      \n",
            " |      Use keyword.iskeyword() to test for reserved identifiers such as \"def\" and\n",
            " |      \"class\".\n",
            " |  \n",
            " |  islower(self, /)\n",
            " |      Return True if the string is a lowercase string, False otherwise.\n",
            " |      \n",
            " |      A string is lowercase if all cased characters in the string are lowercase and\n",
            " |      there is at least one cased character in the string.\n",
            " |  \n",
            " |  isnumeric(self, /)\n",
            " |      Return True if the string is a numeric string, False otherwise.\n",
            " |      \n",
            " |      A string is numeric if all characters in the string are numeric and there is at\n",
            " |      least one character in the string.\n",
            " |  \n",
            " |  isprintable(self, /)\n",
            " |      Return True if the string is printable, False otherwise.\n",
            " |      \n",
            " |      A string is printable if all of its characters are considered printable in\n",
            " |      repr() or if it is empty.\n",
            " |  \n",
            " |  isspace(self, /)\n",
            " |      Return True if the string is a whitespace string, False otherwise.\n",
            " |      \n",
            " |      A string is whitespace if all characters in the string are whitespace and there\n",
            " |      is at least one character in the string.\n",
            " |  \n",
            " |  istitle(self, /)\n",
            " |      Return True if the string is a title-cased string, False otherwise.\n",
            " |      \n",
            " |      In a title-cased string, upper- and title-case characters may only\n",
            " |      follow uncased characters and lowercase characters only cased ones.\n",
            " |  \n",
            " |  isupper(self, /)\n",
            " |      Return True if the string is an uppercase string, False otherwise.\n",
            " |      \n",
            " |      A string is uppercase if all cased characters in the string are uppercase and\n",
            " |      there is at least one cased character in the string.\n",
            " |  \n",
            " |  join(self, iterable, /)\n",
            " |      Concatenate any number of strings.\n",
            " |      \n",
            " |      The string whose method is called is inserted in between each given string.\n",
            " |      The result is returned as a new string.\n",
            " |      \n",
            " |      Example: '.'.join(['ab', 'pq', 'rs']) -> 'ab.pq.rs'\n",
            " |  \n",
            " |  ljust(self, width, fillchar=' ', /)\n",
            " |      Return a left-justified string of length width.\n",
            " |      \n",
            " |      Padding is done using the specified fill character (default is a space).\n",
            " |  \n",
            " |  lower(self, /)\n",
            " |      Return a copy of the string converted to lowercase.\n",
            " |  \n",
            " |  lstrip(self, chars=None, /)\n",
            " |      Return a copy of the string with leading whitespace removed.\n",
            " |      \n",
            " |      If chars is given and not None, remove characters in chars instead.\n",
            " |  \n",
            " |  partition(self, sep, /)\n",
            " |      Partition the string into three parts using the given separator.\n",
            " |      \n",
            " |      This will search for the separator in the string.  If the separator is found,\n",
            " |      returns a 3-tuple containing the part before the separator, the separator\n",
            " |      itself, and the part after it.\n",
            " |      \n",
            " |      If the separator is not found, returns a 3-tuple containing the original string\n",
            " |      and two empty strings.\n",
            " |  \n",
            " |  replace(self, old, new, count=-1, /)\n",
            " |      Return a copy with all occurrences of substring old replaced by new.\n",
            " |      \n",
            " |        count\n",
            " |          Maximum number of occurrences to replace.\n",
            " |          -1 (the default value) means replace all occurrences.\n",
            " |      \n",
            " |      If the optional argument count is given, only the first count occurrences are\n",
            " |      replaced.\n",
            " |  \n",
            " |  rfind(...)\n",
            " |      S.rfind(sub[, start[, end]]) -> int\n",
            " |      \n",
            " |      Return the highest index in S where substring sub is found,\n",
            " |      such that sub is contained within S[start:end].  Optional\n",
            " |      arguments start and end are interpreted as in slice notation.\n",
            " |      \n",
            " |      Return -1 on failure.\n",
            " |  \n",
            " |  rindex(...)\n",
            " |      S.rindex(sub[, start[, end]]) -> int\n",
            " |      \n",
            " |      Return the highest index in S where substring sub is found,\n",
            " |      such that sub is contained within S[start:end].  Optional\n",
            " |      arguments start and end are interpreted as in slice notation.\n",
            " |      \n",
            " |      Raises ValueError when the substring is not found.\n",
            " |  \n",
            " |  rjust(self, width, fillchar=' ', /)\n",
            " |      Return a right-justified string of length width.\n",
            " |      \n",
            " |      Padding is done using the specified fill character (default is a space).\n",
            " |  \n",
            " |  rpartition(self, sep, /)\n",
            " |      Partition the string into three parts using the given separator.\n",
            " |      \n",
            " |      This will search for the separator in the string, starting at the end. If\n",
            " |      the separator is found, returns a 3-tuple containing the part before the\n",
            " |      separator, the separator itself, and the part after it.\n",
            " |      \n",
            " |      If the separator is not found, returns a 3-tuple containing two empty strings\n",
            " |      and the original string.\n",
            " |  \n",
            " |  rsplit(self, /, sep=None, maxsplit=-1)\n",
            " |      Return a list of the words in the string, using sep as the delimiter string.\n",
            " |      \n",
            " |        sep\n",
            " |          The delimiter according which to split the string.\n",
            " |          None (the default value) means split according to any whitespace,\n",
            " |          and discard empty strings from the result.\n",
            " |        maxsplit\n",
            " |          Maximum number of splits to do.\n",
            " |          -1 (the default value) means no limit.\n",
            " |      \n",
            " |      Splits are done starting at the end of the string and working to the front.\n",
            " |  \n",
            " |  rstrip(self, chars=None, /)\n",
            " |      Return a copy of the string with trailing whitespace removed.\n",
            " |      \n",
            " |      If chars is given and not None, remove characters in chars instead.\n",
            " |  \n",
            " |  split(self, /, sep=None, maxsplit=-1)\n",
            " |      Return a list of the words in the string, using sep as the delimiter string.\n",
            " |      \n",
            " |      sep\n",
            " |        The delimiter according which to split the string.\n",
            " |        None (the default value) means split according to any whitespace,\n",
            " |        and discard empty strings from the result.\n",
            " |      maxsplit\n",
            " |        Maximum number of splits to do.\n",
            " |        -1 (the default value) means no limit.\n",
            " |  \n",
            " |  splitlines(self, /, keepends=False)\n",
            " |      Return a list of the lines in the string, breaking at line boundaries.\n",
            " |      \n",
            " |      Line breaks are not included in the resulting list unless keepends is given and\n",
            " |      true.\n",
            " |  \n",
            " |  startswith(...)\n",
            " |      S.startswith(prefix[, start[, end]]) -> bool\n",
            " |      \n",
            " |      Return True if S starts with the specified prefix, False otherwise.\n",
            " |      With optional start, test S beginning at that position.\n",
            " |      With optional end, stop comparing S at that position.\n",
            " |      prefix can also be a tuple of strings to try.\n",
            " |  \n",
            " |  strip(self, chars=None, /)\n",
            " |      Return a copy of the string with leading and trailing whitespace removed.\n",
            " |      \n",
            " |      If chars is given and not None, remove characters in chars instead.\n",
            " |  \n",
            " |  swapcase(self, /)\n",
            " |      Convert uppercase characters to lowercase and lowercase characters to uppercase.\n",
            " |  \n",
            " |  title(self, /)\n",
            " |      Return a version of the string where each word is titlecased.\n",
            " |      \n",
            " |      More specifically, words start with uppercased characters and all remaining\n",
            " |      cased characters have lower case.\n",
            " |  \n",
            " |  translate(self, table, /)\n",
            " |      Replace each character in the string using the given translation table.\n",
            " |      \n",
            " |        table\n",
            " |          Translation table, which must be a mapping of Unicode ordinals to\n",
            " |          Unicode ordinals, strings, or None.\n",
            " |      \n",
            " |      The table must implement lookup/indexing via __getitem__, for instance a\n",
            " |      dictionary or list.  If this operation raises LookupError, the character is\n",
            " |      left untouched.  Characters mapped to None are deleted.\n",
            " |  \n",
            " |  upper(self, /)\n",
            " |      Return a copy of the string converted to uppercase.\n",
            " |  \n",
            " |  zfill(self, width, /)\n",
            " |      Pad a numeric string with zeros on the left, to fill a field of the given width.\n",
            " |      \n",
            " |      The string is never truncated.\n",
            " |  \n",
            " |  ----------------------------------------------------------------------\n",
            " |  Static methods defined here:\n",
            " |  \n",
            " |  __new__(*args, **kwargs) from builtins.type\n",
            " |      Create and return a new object.  See help(type) for accurate signature.\n",
            " |  \n",
            " |  maketrans(x, y=None, z=None, /)\n",
            " |      Return a translation table usable for str.translate().\n",
            " |      \n",
            " |      If there is only one argument, it must be a dictionary mapping Unicode\n",
            " |      ordinals (integers) or characters to Unicode ordinals, strings or None.\n",
            " |      Character keys will be then converted to ordinals.\n",
            " |      If there are two arguments, they must be strings of equal length, and\n",
            " |      in the resulting dictionary, each character in x will be mapped to the\n",
            " |      character at the same position in y. If there is a third argument, it\n",
            " |      must be a string, whose characters will be mapped to None in the result.\n",
            "\n"
          ],
          "name": "stdout"
        }
      ]
    },
    {
      "cell_type": "code",
      "metadata": {
        "colab": {
          "base_uri": "https://localhost:8080/"
        },
        "id": "wDcaAoC24b-5",
        "outputId": "cdf7371d-8d1d-466a-d9dd-26d694aaf490"
      },
      "source": [
        "help(int)"
      ],
      "execution_count": null,
      "outputs": [
        {
          "output_type": "stream",
          "text": [
            "Help on class int in module builtins:\n",
            "\n",
            "class int(object)\n",
            " |  int([x]) -> integer\n",
            " |  int(x, base=10) -> integer\n",
            " |  \n",
            " |  Convert a number or string to an integer, or return 0 if no arguments\n",
            " |  are given.  If x is a number, return x.__int__().  For floating point\n",
            " |  numbers, this truncates towards zero.\n",
            " |  \n",
            " |  If x is not a number or if base is given, then x must be a string,\n",
            " |  bytes, or bytearray instance representing an integer literal in the\n",
            " |  given base.  The literal can be preceded by '+' or '-' and be surrounded\n",
            " |  by whitespace.  The base defaults to 10.  Valid bases are 0 and 2-36.\n",
            " |  Base 0 means to interpret the base from the string as an integer literal.\n",
            " |  >>> int('0b100', base=0)\n",
            " |  4\n",
            " |  \n",
            " |  Methods defined here:\n",
            " |  \n",
            " |  __abs__(self, /)\n",
            " |      abs(self)\n",
            " |  \n",
            " |  __add__(self, value, /)\n",
            " |      Return self+value.\n",
            " |  \n",
            " |  __and__(self, value, /)\n",
            " |      Return self&value.\n",
            " |  \n",
            " |  __bool__(self, /)\n",
            " |      self != 0\n",
            " |  \n",
            " |  __ceil__(...)\n",
            " |      Ceiling of an Integral returns itself.\n",
            " |  \n",
            " |  __divmod__(self, value, /)\n",
            " |      Return divmod(self, value).\n",
            " |  \n",
            " |  __eq__(self, value, /)\n",
            " |      Return self==value.\n",
            " |  \n",
            " |  __float__(self, /)\n",
            " |      float(self)\n",
            " |  \n",
            " |  __floor__(...)\n",
            " |      Flooring an Integral returns itself.\n",
            " |  \n",
            " |  __floordiv__(self, value, /)\n",
            " |      Return self//value.\n",
            " |  \n",
            " |  __format__(self, format_spec, /)\n",
            " |      Default object formatter.\n",
            " |  \n",
            " |  __ge__(self, value, /)\n",
            " |      Return self>=value.\n",
            " |  \n",
            " |  __getattribute__(self, name, /)\n",
            " |      Return getattr(self, name).\n",
            " |  \n",
            " |  __getnewargs__(self, /)\n",
            " |  \n",
            " |  __gt__(self, value, /)\n",
            " |      Return self>value.\n",
            " |  \n",
            " |  __hash__(self, /)\n",
            " |      Return hash(self).\n",
            " |  \n",
            " |  __index__(self, /)\n",
            " |      Return self converted to an integer, if self is suitable for use as an index into a list.\n",
            " |  \n",
            " |  __int__(self, /)\n",
            " |      int(self)\n",
            " |  \n",
            " |  __invert__(self, /)\n",
            " |      ~self\n",
            " |  \n",
            " |  __le__(self, value, /)\n",
            " |      Return self<=value.\n",
            " |  \n",
            " |  __lshift__(self, value, /)\n",
            " |      Return self<<value.\n",
            " |  \n",
            " |  __lt__(self, value, /)\n",
            " |      Return self<value.\n",
            " |  \n",
            " |  __mod__(self, value, /)\n",
            " |      Return self%value.\n",
            " |  \n",
            " |  __mul__(self, value, /)\n",
            " |      Return self*value.\n",
            " |  \n",
            " |  __ne__(self, value, /)\n",
            " |      Return self!=value.\n",
            " |  \n",
            " |  __neg__(self, /)\n",
            " |      -self\n",
            " |  \n",
            " |  __or__(self, value, /)\n",
            " |      Return self|value.\n",
            " |  \n",
            " |  __pos__(self, /)\n",
            " |      +self\n",
            " |  \n",
            " |  __pow__(self, value, mod=None, /)\n",
            " |      Return pow(self, value, mod).\n",
            " |  \n",
            " |  __radd__(self, value, /)\n",
            " |      Return value+self.\n",
            " |  \n",
            " |  __rand__(self, value, /)\n",
            " |      Return value&self.\n",
            " |  \n",
            " |  __rdivmod__(self, value, /)\n",
            " |      Return divmod(value, self).\n",
            " |  \n",
            " |  __repr__(self, /)\n",
            " |      Return repr(self).\n",
            " |  \n",
            " |  __rfloordiv__(self, value, /)\n",
            " |      Return value//self.\n",
            " |  \n",
            " |  __rlshift__(self, value, /)\n",
            " |      Return value<<self.\n",
            " |  \n",
            " |  __rmod__(self, value, /)\n",
            " |      Return value%self.\n",
            " |  \n",
            " |  __rmul__(self, value, /)\n",
            " |      Return value*self.\n",
            " |  \n",
            " |  __ror__(self, value, /)\n",
            " |      Return value|self.\n",
            " |  \n",
            " |  __round__(...)\n",
            " |      Rounding an Integral returns itself.\n",
            " |      Rounding with an ndigits argument also returns an integer.\n",
            " |  \n",
            " |  __rpow__(self, value, mod=None, /)\n",
            " |      Return pow(value, self, mod).\n",
            " |  \n",
            " |  __rrshift__(self, value, /)\n",
            " |      Return value>>self.\n",
            " |  \n",
            " |  __rshift__(self, value, /)\n",
            " |      Return self>>value.\n",
            " |  \n",
            " |  __rsub__(self, value, /)\n",
            " |      Return value-self.\n",
            " |  \n",
            " |  __rtruediv__(self, value, /)\n",
            " |      Return value/self.\n",
            " |  \n",
            " |  __rxor__(self, value, /)\n",
            " |      Return value^self.\n",
            " |  \n",
            " |  __sizeof__(self, /)\n",
            " |      Returns size in memory, in bytes.\n",
            " |  \n",
            " |  __str__(self, /)\n",
            " |      Return str(self).\n",
            " |  \n",
            " |  __sub__(self, value, /)\n",
            " |      Return self-value.\n",
            " |  \n",
            " |  __truediv__(self, value, /)\n",
            " |      Return self/value.\n",
            " |  \n",
            " |  __trunc__(...)\n",
            " |      Truncating an Integral returns itself.\n",
            " |  \n",
            " |  __xor__(self, value, /)\n",
            " |      Return self^value.\n",
            " |  \n",
            " |  bit_length(self, /)\n",
            " |      Number of bits necessary to represent self in binary.\n",
            " |      \n",
            " |      >>> bin(37)\n",
            " |      '0b100101'\n",
            " |      >>> (37).bit_length()\n",
            " |      6\n",
            " |  \n",
            " |  conjugate(...)\n",
            " |      Returns self, the complex conjugate of any int.\n",
            " |  \n",
            " |  to_bytes(self, /, length, byteorder, *, signed=False)\n",
            " |      Return an array of bytes representing an integer.\n",
            " |      \n",
            " |      length\n",
            " |        Length of bytes object to use.  An OverflowError is raised if the\n",
            " |        integer is not representable with the given number of bytes.\n",
            " |      byteorder\n",
            " |        The byte order used to represent the integer.  If byteorder is 'big',\n",
            " |        the most significant byte is at the beginning of the byte array.  If\n",
            " |        byteorder is 'little', the most significant byte is at the end of the\n",
            " |        byte array.  To request the native byte order of the host system, use\n",
            " |        `sys.byteorder' as the byte order value.\n",
            " |      signed\n",
            " |        Determines whether two's complement is used to represent the integer.\n",
            " |        If signed is False and a negative integer is given, an OverflowError\n",
            " |        is raised.\n",
            " |  \n",
            " |  ----------------------------------------------------------------------\n",
            " |  Class methods defined here:\n",
            " |  \n",
            " |  from_bytes(bytes, byteorder, *, signed=False) from builtins.type\n",
            " |      Return the integer represented by the given array of bytes.\n",
            " |      \n",
            " |      bytes\n",
            " |        Holds the array of bytes to convert.  The argument must either\n",
            " |        support the buffer protocol or be an iterable object producing bytes.\n",
            " |        Bytes and bytearray are examples of built-in objects that support the\n",
            " |        buffer protocol.\n",
            " |      byteorder\n",
            " |        The byte order used to represent the integer.  If byteorder is 'big',\n",
            " |        the most significant byte is at the beginning of the byte array.  If\n",
            " |        byteorder is 'little', the most significant byte is at the end of the\n",
            " |        byte array.  To request the native byte order of the host system, use\n",
            " |        `sys.byteorder' as the byte order value.\n",
            " |      signed\n",
            " |        Indicates whether two's complement is used to represent the integer.\n",
            " |  \n",
            " |  ----------------------------------------------------------------------\n",
            " |  Static methods defined here:\n",
            " |  \n",
            " |  __new__(*args, **kwargs) from builtins.type\n",
            " |      Create and return a new object.  See help(type) for accurate signature.\n",
            " |  \n",
            " |  ----------------------------------------------------------------------\n",
            " |  Data descriptors defined here:\n",
            " |  \n",
            " |  denominator\n",
            " |      the denominator of a rational number in lowest terms\n",
            " |  \n",
            " |  imag\n",
            " |      the imaginary part of a complex number\n",
            " |  \n",
            " |  numerator\n",
            " |      the numerator of a rational number in lowest terms\n",
            " |  \n",
            " |  real\n",
            " |      the real part of a complex number\n",
            "\n"
          ],
          "name": "stdout"
        }
      ]
    },
    {
      "cell_type": "markdown",
      "metadata": {
        "id": "sQXni1L54Ycy"
      },
      "source": [
        "- We can use the `type()` function to figure out **what class a variable or value belongs to**. For example, `type(\" \")` tells us that this is a string class. The only attribute in this case is the string value, but there are a bunch of methods associated with the class. We've seen the `upper()` method, which returns the string in all uppercase, as well as `isnumeric()` which returns a boolean telling us whether or not the string is a number. \n",
        "- You can use the `dir()` function to **print all the attributes and methods of an object**. Each string is an instance of the string class, having the same methods of the parent class. Since the content of the string is different, the methods will return different values. \n",
        "- You can also use the `help()` function on an object, which will return the **documentation for the corresponding class**. This will show all the **methods** for the class, along with **parameters the methods receive**, **types of return values**, and a **description of the methods**."
      ]
    },
    {
      "cell_type": "markdown",
      "metadata": {
        "id": "-U3-dv-55VZt"
      },
      "source": [
        "### **Defining new classes**\n",
        "- The `class` reserved keyword is used to tell python we are starting a new class\n",
        "- Python style guidelines recommend that class names should start with a capital letter\n",
        "- After the line with the class definition, comes the **body of the class** which is indented to the right (the `pass` keyword can be used to show that the **body is empty**).\n"
      ]
    },
    {
      "cell_type": "code",
      "metadata": {
        "id": "_Q8KGaja6HAf"
      },
      "source": [
        "class Apple:\n",
        "  pass"
      ],
      "execution_count": null,
      "outputs": []
    },
    {
      "cell_type": "markdown",
      "metadata": {
        "id": "kkLgbJp46TqD"
      },
      "source": [
        "- We can then add some attributes. In the example we have defined them as strings because this is what we expect them to be. At the moment they are empty strings because we do not know what values these attributes will have."
      ]
    },
    {
      "cell_type": "code",
      "metadata": {
        "id": "Ch9DDFnE6M7k"
      },
      "source": [
        "class Apple:\n",
        "  color = \"\"\n",
        "  flavor = \"\""
      ],
      "execution_count": null,
      "outputs": []
    },
    {
      "cell_type": "markdown",
      "metadata": {
        "id": "Nf1QqMub6ocs"
      },
      "source": [
        "- We can now create a new instance of the `Apple` class and assign it to a variable (`jonagold`). The name of the class gets called as if we were calling a function."
      ]
    },
    {
      "cell_type": "code",
      "metadata": {
        "colab": {
          "base_uri": "https://localhost:8080/"
        },
        "id": "8ozYMVqK6ljZ",
        "outputId": "694cf07e-02d6-414c-9eb5-458f22c7af0e"
      },
      "source": [
        "jonagold = Apple()\n",
        "print(type(jonagold))\n",
        "print(help(jonagold))"
      ],
      "execution_count": null,
      "outputs": [
        {
          "output_type": "stream",
          "text": [
            "<class '__main__.Apple'>\n",
            "Help on Apple in module __main__ object:\n",
            "\n",
            "class Apple(builtins.object)\n",
            " |  Data descriptors defined here:\n",
            " |  \n",
            " |  __dict__\n",
            " |      dictionary for instance variables (if defined)\n",
            " |  \n",
            " |  __weakref__\n",
            " |      list of weak references to the object (if defined)\n",
            " |  \n",
            " |  ----------------------------------------------------------------------\n",
            " |  Data and other attributes defined here:\n",
            " |  \n",
            " |  color = ''\n",
            " |  \n",
            " |  flavor = ''\n",
            "\n",
            "None\n"
          ],
          "name": "stdout"
        }
      ]
    },
    {
      "cell_type": "markdown",
      "metadata": {
        "id": "vH0V0O_16Gnk"
      },
      "source": [
        "- We can now set the values of the attributes for our object:"
      ]
    },
    {
      "cell_type": "code",
      "metadata": {
        "colab": {
          "base_uri": "https://localhost:8080/"
        },
        "id": "T7wEa31G7Lw8",
        "outputId": "3ad3ca6e-7afe-4921-8364-0bbd30a5f148"
      },
      "source": [
        "jonagold.color = \"red\"\n",
        "jonagold.flavor = \"sweet\"\n",
        "print(type(jonagold))\n",
        "print(help(jonagold))"
      ],
      "execution_count": null,
      "outputs": [
        {
          "output_type": "stream",
          "text": [
            "<class '__main__.Apple'>\n",
            "Help on Apple in module __main__ object:\n",
            "\n",
            "class Apple(builtins.object)\n",
            " |  Data descriptors defined here:\n",
            " |  \n",
            " |  __dict__\n",
            " |      dictionary for instance variables (if defined)\n",
            " |  \n",
            " |  __weakref__\n",
            " |      list of weak references to the object (if defined)\n",
            " |  \n",
            " |  ----------------------------------------------------------------------\n",
            " |  Data and other attributes defined here:\n",
            " |  \n",
            " |  color = ''\n",
            " |  \n",
            " |  flavor = ''\n",
            "\n",
            "None\n"
          ],
          "name": "stdout"
        }
      ]
    },
    {
      "cell_type": "markdown",
      "metadata": {
        "id": "agmOnkbQ8hFl"
      },
      "source": [
        "- The syntax used to access the attributes is called **dot notation**. It lets you access any of the **abilities** the **object** might have (**methods**) or **information** it might **store** (**attributes**)."
      ]
    },
    {
      "cell_type": "code",
      "metadata": {
        "colab": {
          "base_uri": "https://localhost:8080/"
        },
        "id": "YcNVEJUh8ZH1",
        "outputId": "f50313e2-d2b2-4ae7-ef0c-aab5ff79f82b"
      },
      "source": [
        "print(jonagold.color)\n",
        "print(jonagold.flavor)"
      ],
      "execution_count": null,
      "outputs": [
        {
          "output_type": "stream",
          "text": [
            "red\n",
            "sweet\n"
          ],
          "name": "stdout"
        }
      ]
    },
    {
      "cell_type": "markdown",
      "metadata": {
        "id": "oS6k7R-285Gu"
      },
      "source": [
        "- The attributes and methods of some objects can be other objects with attributes and methods of their own."
      ]
    },
    {
      "cell_type": "code",
      "metadata": {
        "colab": {
          "base_uri": "https://localhost:8080/"
        },
        "id": "XTk3KSt83_kT",
        "outputId": "acc127e2-5a55-4a62-d807-b0be0ed66bf5"
      },
      "source": [
        "print(jonagold.color.upper())\n",
        "print(jonagold.color)"
      ],
      "execution_count": null,
      "outputs": [
        {
          "output_type": "stream",
          "text": [
            "RED\n",
            "red\n"
          ],
          "name": "stdout"
        }
      ]
    },
    {
      "cell_type": "markdown",
      "metadata": {
        "id": "yYVGAOnh-P5M"
      },
      "source": [
        "- We can create another instance of an `Apple` and set different attributes to differentiate between two different varieties of apples. We now have another `Apple` object called `golden` that also has color and flavor attributes. But these attributes have different values."
      ]
    },
    {
      "cell_type": "code",
      "metadata": {
        "colab": {
          "base_uri": "https://localhost:8080/"
        },
        "id": "ajQVlN4e9Jw6",
        "outputId": "7aff0555-bf6a-4b47-af88-720f912993bc"
      },
      "source": [
        "golden = Apple()\n",
        "golden.color = \"Yellow\"\n",
        "golden.flavor = \"Soft\"\n",
        "print(golden)"
      ],
      "execution_count": null,
      "outputs": [
        {
          "output_type": "stream",
          "text": [
            "<__main__.Apple object at 0x7feccc9b7950>\n"
          ],
          "name": "stdout"
        }
      ]
    },
    {
      "cell_type": "markdown",
      "metadata": {
        "id": "5Xdzw8mL-4GW"
      },
      "source": [
        "***Test Q2***: Creating new instances of class objects can be a great way to keep track of values using attributes associated with the object. The values of these attributes can be easily changed at the object level.  The following code illustrates a famous quote by George Bernard Shaw, using objects to represent people. Fill in the blanks to make the code satisfy the behavior described in the quote. "
      ]
    },
    {
      "cell_type": "code",
      "metadata": {
        "colab": {
          "base_uri": "https://localhost:8080/"
        },
        "id": "OzagKSaU9ct7",
        "outputId": "bec9ee0f-8ee0-4fe8-e530-8b4710415185"
      },
      "source": [
        "# “If you have an apple and I have an apple and we exchange these apples then\n",
        "# you and I will still each have one apple. But if you have an idea and I have\n",
        "# an idea and we exchange these ideas, then each of us will have two ideas.”\n",
        "# George Bernard Shaw\n",
        "\n",
        "class Person:\n",
        "    apples = 0\n",
        "    ideas = 0\n",
        "\n",
        "johanna = Person()\n",
        "johanna.apples = 1\n",
        "johanna.ideas = 1\n",
        "\n",
        "martin = Person()\n",
        "martin.apples = 2\n",
        "martin.ideas = 1\n",
        "\n",
        "def exchange_apples(you, me):\n",
        "    #Here, despite G.B. Shaw's quote, our characters have started with       \n",
        "    #different amounts of apples so we can better observe the results. \n",
        "    #We're going to have Martin and Johanna exchange ALL their apples with \n",
        "    #one another.\n",
        "    #Hint: how would you switch values of variables, \n",
        "    #so that \"you\" and \"me\" will exchange ALL their apples with one another?\n",
        "    #Do you need a temporary variable to store one of the values?\n",
        "    #You may need more than one line of code to do that, which is OK. \n",
        "      you.apples_old = you.apples\n",
        "      you.apples = me.apples\n",
        "      me.apples = you.apples_old\n",
        "      return you.apples, me.apples\n",
        "\n",
        "\n",
        "    \n",
        "def exchange_ideas(you, me):\n",
        "    #\"you\" and \"me\" will share our ideas with one another.\n",
        "    #What operations need to be performed, so that each object receives\n",
        "    #the shared number of ideas?\n",
        "    #Hint: how would you assign the total number of ideas to \n",
        "    #each idea attribute? Do you need a temporary variable to store \n",
        "    #the sum of ideas, or can you find another way? \n",
        "    #Use as many lines of code as you need here.\n",
        "      you.ideas_old = you.ideas\n",
        "      you.ideas = you.ideas + me.ideas\n",
        "      me.ideas = you.ideas_old + me.ideas\n",
        "      return you.ideas, me.ideas\n",
        "\n",
        "exchange_apples(johanna, martin)\n",
        "print(\"Johanna has {} apples and Martin has {} apples\".format(johanna.apples, martin.apples))\n",
        "exchange_ideas(johanna, martin)\n",
        "print(\"Johanna has {} ideas and Martin has {} ideas\".format(johanna.ideas, martin.ideas))"
      ],
      "execution_count": null,
      "outputs": [
        {
          "output_type": "stream",
          "text": [
            "Johanna has 2 apples and Martin has 1 apples\n",
            "Johanna has 2 ideas and Martin has 2 ideas\n"
          ],
          "name": "stdout"
        }
      ]
    },
    {
      "cell_type": "markdown",
      "metadata": {
        "id": "cQFs9hIpBQBC"
      },
      "source": [
        "***Test Q3***: The `City` class has the following attributes: name, country (where the city is located), elevation (measured in meters), and population (approximate, according to recent statistics). Fill in the blanks of the `max_elevation_city` function to return the name of the city and its country (separated by a comma), when comparing the 3 defined instances for a specified minimal population. For example, calling the function for a minimum population of 1 million: `max_elevation_city(1000000)` should return \"Sofia, Bulgaria\"."
      ]
    },
    {
      "cell_type": "code",
      "metadata": {
        "colab": {
          "base_uri": "https://localhost:8080/"
        },
        "id": "p0nzKYmUBb3H",
        "outputId": "2e3c451b-626c-46f4-e7f1-8bcf91568f3b"
      },
      "source": [
        "# define a basic city class\n",
        "class City:\n",
        "\tname = \"\"\n",
        "\tcountry = \"\"\n",
        "\televation = 0 \n",
        "\tpopulation = 0\n",
        "\n",
        "# create a new instance of the City class and\n",
        "# define each attribute\n",
        "city1 = City()\n",
        "city1.name = \"Cusco\"\n",
        "city1.country = \"Peru\"\n",
        "city1.elevation = 3399\n",
        "city1.population = 358052\n",
        "\n",
        "# create a new instance of the City class and\n",
        "# define each attribute\n",
        "city2 = City()\n",
        "city2.name = \"Sofia\"\n",
        "city2.country = \"Bulgaria\"\n",
        "city2.elevation = 2290\n",
        "city2.population = 1241675\n",
        "\n",
        "# create a new instance of the City class and\n",
        "# define each attribute\n",
        "city3 = City()\n",
        "city3.name = \"Seoul\"\n",
        "city3.country = \"South Korea\"\n",
        "city3.elevation = 38\n",
        "city3.population = 9733509\n",
        "\n",
        "def max_elevation_city(min_population):\n",
        "\n",
        "  # Initialize the variable that will hold \n",
        "  # the information of the city with \n",
        "  # the highest elevation \n",
        "  return_city = City()\n",
        "\n",
        "\t# Evaluate the 1st instance to meet the requirements:\n",
        "\t# does city #1 have at least min_population and\n",
        "\t# is its elevation the highest evaluated so far?\n",
        "  if (city1.population >= min_population):\n",
        "    return_city = city1\n",
        "\t# Evaluate the 2nd instance to meet the requirements:\n",
        "\t# does city #2 have at least min_population and\n",
        "\t# is its elevation the highest evaluated so far?\n",
        "  if (city2.population >= min_population):\n",
        "    if (city1.population >= min_population):\n",
        "      if (city2.elevation > city1.elevation):\n",
        "        return_city = city2\n",
        "      else: return_city = city1\n",
        "    else: return_city = city2\n",
        " \n",
        "\t# Evaluate the 3rd instance to meet the requirements:\n",
        "\t# does city #3 have at least min_population and\n",
        "\t# is its elevation the highest evaluated so far?\n",
        "  if (city3.population >= min_population):\n",
        "    if (return_city.population >= min_population):\n",
        "      if (city3.elevation > return_city.elevation):\n",
        "        return_city = city3\n",
        "      else: return_city = return_city\n",
        "    else: return_city = city3\n",
        "\n",
        "\t#Format the return string\n",
        "  if return_city.name:\n",
        "    return print(\"{}, {}\".format(return_city.name, return_city.country))\n",
        "  else:\n",
        "    return \"\"\n",
        "\n",
        "print(max_elevation_city(100000)) # Should print \"Cusco, Peru\"\n",
        "print(max_elevation_city(1000000)) # Should print \"Sofia, Bulgaria\"\n",
        "print(max_elevation_city(10000000)) # Should print \"\""
      ],
      "execution_count": null,
      "outputs": [
        {
          "output_type": "stream",
          "text": [
            "Cusco, Peru\n",
            "None\n",
            "Sofia, Bulgaria\n",
            "None\n",
            "\n"
          ],
          "name": "stdout"
        }
      ]
    },
    {
      "cell_type": "markdown",
      "metadata": {
        "id": "_4Vzxz9gHpWN"
      },
      "source": [
        "**Test Q4**: We have two pieces of furniture: a brown wood table and a red leather couch. Fill in the blanks following the creation of each `Furniture` class instance, so that the `describe_furniture` function can format a sentence that describes these pieces as follows: `\"This piece of furniture is made of {color} {material}\"`"
      ]
    },
    {
      "cell_type": "code",
      "metadata": {
        "colab": {
          "base_uri": "https://localhost:8080/"
        },
        "id": "2r6LxJtzHyBg",
        "outputId": "4fa47e63-df35-4adf-ebe3-4036b374addf"
      },
      "source": [
        "class Furniture:\n",
        "\tcolor = \"\"\n",
        "\tmaterial = \"\"\n",
        "\n",
        "table = Furniture()\n",
        "table.color = \"brown\"\n",
        "table.material = \"wood\"\n",
        "\n",
        "couch = Furniture()\n",
        "couch.color = \"red\"\n",
        "couch.material = \"leather\"\n",
        "___\n",
        "___\n",
        "\n",
        "def describe_furniture(piece):\n",
        "\treturn (\"This piece of furniture is made of {} {}\".format(piece.color, piece.material))\n",
        "\n",
        "print(describe_furniture(table)) \n",
        "# Should be \"This piece of furniture is made of brown wood\"\n",
        "print(describe_furniture(couch)) \n",
        "# Should be \"This piece of furniture is made of red leather\""
      ],
      "execution_count": null,
      "outputs": [
        {
          "output_type": "stream",
          "text": [
            "This piece of furniture is made of brown wood\n",
            "This piece of furniture is made of red leather\n"
          ],
          "name": "stdout"
        }
      ]
    },
    {
      "cell_type": "markdown",
      "metadata": {
        "id": "rfcxJNl8Idhc"
      },
      "source": [
        "## **5.2: Classes & Methods**\n",
        "\n",
        "### **Instance methods**\n",
        "- Calling **methods** on objects **executes functions that operate on attributes of a specific instance of the class**. This means that calling a method on a list, for example, only modifies that instance of a list, and not all lists globally. \n",
        "- We can **define methods within a class** by creating **functions inside the class definition**. \n",
        "- These **instance methods** can take a **parameter** called **self** which represents the **instance the method is being executed on**. This will allow you to **access attributes** of the **instance** using **dot notation**, like `self.name`, which will access the name attribute of that specific instance of the class object. When you have variables that contain different values for different instances, these are called **instance variables**."
      ]
    },
    {
      "cell_type": "code",
      "metadata": {
        "colab": {
          "base_uri": "https://localhost:8080/"
        },
        "id": "zeWMYkWfo3gM",
        "outputId": "badf944b-f2fe-412b-af95-e465250b4e2a"
      },
      "source": [
        "class Piglet:\n",
        "  # the parameter 'self' of the method represents the instance that the \n",
        "  # method is being executed on\n",
        "  def speak(self): \n",
        "    print(\"oink, oink\")\n",
        "\n",
        "hamlet = Piglet()\n",
        "hamlet.speak()"
      ],
      "execution_count": null,
      "outputs": [
        {
          "output_type": "stream",
          "text": [
            "oink, oink\n"
          ],
          "name": "stdout"
        }
      ]
    },
    {
      "cell_type": "code",
      "metadata": {
        "colab": {
          "base_uri": "https://localhost:8080/"
        },
        "id": "7C9i4rWYpHsv",
        "outputId": "31862f61-6780-40fa-eab2-54f791e10a0c"
      },
      "source": [
        "class Piglet:\n",
        "  name = \"piglet\"\n",
        "  def speak(self):\n",
        "    print(\"Oink! I'm {}! Oink!\". format(self.name))\n",
        "\n",
        "hamlet = Piglet()\n",
        "hamlet.name = \"Hamlet\"\n",
        "hamlet.speak()\n",
        "\n",
        "petunia = Piglet()\n",
        "petunia.name = \"Petunia\"\n",
        "petunia.speak()"
      ],
      "execution_count": null,
      "outputs": [
        {
          "output_type": "stream",
          "text": [
            "Oink! I'm Hamlet! Oink!\n",
            "Oink! I'm Petunia! Oink!\n"
          ],
          "name": "stdout"
        }
      ]
    },
    {
      "cell_type": "markdown",
      "metadata": {
        "id": "44vdG5Y-I_K6"
      },
      "source": [
        "- Since methods are functions for classes, they can also receive multiple parameters and return a value if needed:"
      ]
    },
    {
      "cell_type": "code",
      "metadata": {
        "colab": {
          "base_uri": "https://localhost:8080/"
        },
        "id": "EdZWMsFZI-qu",
        "outputId": "aea5124d-b820-40e1-8112-3741b3af2873"
      },
      "source": [
        "class Piglet:\n",
        "  years = 0\n",
        "  def pig_years(self):\n",
        "    return self.years * 18\n",
        "\n",
        "piggy = Piglet()\n",
        "piggy.years = 2\n",
        "print (\"Piggy's years = {}\".format(piggy.pig_years()))\n",
        "\n",
        "piggy2 = Piglet()\n",
        "piggy2.years = 3\n",
        "print (\"Piggy2's years = {}\".format(piggy2.pig_years()))\n",
        "\n",
        "\n"
      ],
      "execution_count": null,
      "outputs": [
        {
          "output_type": "stream",
          "text": [
            "Piggy's years = 36\n",
            "Piggy2's years = 54\n"
          ],
          "name": "stdout"
        }
      ]
    },
    {
      "cell_type": "code",
      "metadata": {
        "colab": {
          "base_uri": "https://localhost:8080/",
          "height": 231
        },
        "id": "TYX6Eg-qqkxJ",
        "outputId": "9c720c44-c668-485e-9851-3ef357817530"
      },
      "source": [
        "class Piglet:\n",
        "  years = 0\n",
        "  def pig_years():\n",
        "    return years * 18\n",
        "\n",
        "piggy = Piglet()\n",
        "piggy.years = 2\n",
        "print (\"Piggy's years = {}\".format(piggy.pig_years()))\n",
        "\n",
        "piggy2 = Piglet()\n",
        "piggy2.years = 3\n",
        "print (\"Piggy2's years = {}\".format(piggy2.pig_years()))"
      ],
      "execution_count": null,
      "outputs": [
        {
          "output_type": "error",
          "ename": "TypeError",
          "evalue": "ignored",
          "traceback": [
            "\u001b[0;31m---------------------------------------------------------------------------\u001b[0m",
            "\u001b[0;31mTypeError\u001b[0m                                 Traceback (most recent call last)",
            "\u001b[0;32m<ipython-input-9-5c3a138444dc>\u001b[0m in \u001b[0;36m<module>\u001b[0;34m()\u001b[0m\n\u001b[1;32m      6\u001b[0m \u001b[0mpiggy\u001b[0m \u001b[0;34m=\u001b[0m \u001b[0mPiglet\u001b[0m\u001b[0;34m(\u001b[0m\u001b[0;34m)\u001b[0m\u001b[0;34m\u001b[0m\u001b[0;34m\u001b[0m\u001b[0m\n\u001b[1;32m      7\u001b[0m \u001b[0mpiggy\u001b[0m\u001b[0;34m.\u001b[0m\u001b[0myears\u001b[0m \u001b[0;34m=\u001b[0m \u001b[0;36m2\u001b[0m\u001b[0;34m\u001b[0m\u001b[0;34m\u001b[0m\u001b[0m\n\u001b[0;32m----> 8\u001b[0;31m \u001b[0mprint\u001b[0m \u001b[0;34m(\u001b[0m\u001b[0;34m\"Piggy's years = {}\"\u001b[0m\u001b[0;34m.\u001b[0m\u001b[0mformat\u001b[0m\u001b[0;34m(\u001b[0m\u001b[0mpiggy\u001b[0m\u001b[0;34m.\u001b[0m\u001b[0mpig_years\u001b[0m\u001b[0;34m(\u001b[0m\u001b[0;34m)\u001b[0m\u001b[0;34m)\u001b[0m\u001b[0;34m)\u001b[0m\u001b[0;34m\u001b[0m\u001b[0;34m\u001b[0m\u001b[0m\n\u001b[0m\u001b[1;32m      9\u001b[0m \u001b[0;34m\u001b[0m\u001b[0m\n\u001b[1;32m     10\u001b[0m \u001b[0mpiggy2\u001b[0m \u001b[0;34m=\u001b[0m \u001b[0mPiglet\u001b[0m\u001b[0;34m(\u001b[0m\u001b[0;34m)\u001b[0m\u001b[0;34m\u001b[0m\u001b[0;34m\u001b[0m\u001b[0m\n",
            "\u001b[0;31mTypeError\u001b[0m: pig_years() takes 0 positional arguments but 1 was given"
          ]
        }
      ]
    },
    {
      "cell_type": "markdown",
      "metadata": {
        "id": "EE0c2ZbUrrzT"
      },
      "source": [
        "### **Special Methods**\n",
        "- Instead of creating classes with **empty** or **default values**, we can set these values when we create the instance. This ensures that we don't miss an important value and avoids a lot of unnecessary lines of code. To do this, we use a special method called a **constructor**. Below is an example of an `Apple` class with a constructor method defined."
      ]
    },
    {
      "cell_type": "code",
      "metadata": {
        "id": "jmtSh0E2rUfC"
      },
      "source": [
        "class Apple:\n",
        "  def __init__(self, color, flavor):\n",
        "    self.color = color\n",
        "    self.flavor = flavor"
      ],
      "execution_count": null,
      "outputs": []
    },
    {
      "cell_type": "markdown",
      "metadata": {
        "id": "7o8DN0yvwI48"
      },
      "source": [
        "- When you call the name of a class, the constructor of that class is called. This **constructor method** is always named __init__. You might remember that special methods start and end with two underscore characters. In our example above, the constructor method takes the self variable, which represents the instance, as well as color and flavor parameters. These parameters are then used by the constructor method to set the values for the current instance. So we can now create a new instance of the Apple class and set the color and flavor values all in go:"
      ]
    },
    {
      "cell_type": "code",
      "metadata": {
        "colab": {
          "base_uri": "https://localhost:8080/"
        },
        "id": "JnGYUFzZwIV-",
        "outputId": "a44c9edb-b6e6-4925-8878-0b433af0fef3"
      },
      "source": [
        "jonagold = Apple(\"red\", \"sweet\")\n",
        "print(jonagold.color, jonagold.flavor)"
      ],
      "execution_count": null,
      "outputs": [
        {
          "output_type": "stream",
          "text": [
            "red sweet\n"
          ],
          "name": "stdout"
        }
      ]
    },
    {
      "cell_type": "markdown",
      "metadata": {
        "id": "cDdL9hkuwx1k"
      },
      "source": [
        "- In addition to the `__init__` constructor special method, there is also the `__str__` **special method**. This method allows us to **define how an instance of an object will be printed** when it’s passed to the `print()` function. `__str__` is used to convert an object into a string. If an object doesn’t have this special method defined, it will wind up using the **default representation**, which will **print the position of the object in memory**. Not super useful. Here is our Apple class, with the `__str__` method added:"
      ]
    },
    {
      "cell_type": "code",
      "metadata": {
        "colab": {
          "base_uri": "https://localhost:8080/"
        },
        "id": "ql5HkU2Kww7j",
        "outputId": "a8d356cc-b386-4d29-abab-ed5226664c34"
      },
      "source": [
        "print(jonagold) ## without defining the __str__ method"
      ],
      "execution_count": null,
      "outputs": [
        {
          "output_type": "stream",
          "text": [
            "<__main__.Apple object at 0x7f1c5799d650>\n"
          ],
          "name": "stdout"
        }
      ]
    },
    {
      "cell_type": "code",
      "metadata": {
        "id": "ZR6mURTIxG29"
      },
      "source": [
        "class Apple:\n",
        "  def __init__(self, color, flavor):\n",
        "    self.color = color\n",
        "    self.flavor = flavor\n",
        "  def __str__(self):\n",
        "    return \"This apple is {} and its flavor is {}\".format(self.color, self.flavor)"
      ],
      "execution_count": null,
      "outputs": []
    },
    {
      "cell_type": "code",
      "metadata": {
        "colab": {
          "base_uri": "https://localhost:8080/"
        },
        "id": "GgICjhWzxXpf",
        "outputId": "4fa1ead7-6911-4afa-8224-8a4e5873c7d7"
      },
      "source": [
        "jonagold = Apple(\"yellow\", \"sweet\")\n",
        "print(jonagold.color, jonagold.flavor)\n",
        "print(jonagold) ## after defining the __str__ method\n",
        "jonagold"
      ],
      "execution_count": null,
      "outputs": [
        {
          "output_type": "stream",
          "text": [
            "yellow sweet\n",
            "This apple is yellow and its flavor is sweet\n"
          ],
          "name": "stdout"
        },
        {
          "output_type": "execute_result",
          "data": {
            "text/plain": [
              "<__main__.Apple at 0x7f1c5791d250>"
            ]
          },
          "metadata": {
            "tags": []
          },
          "execution_count": 34
        }
      ]
    },
    {
      "cell_type": "markdown",
      "metadata": {
        "id": "RSw0RCdDxGp0"
      },
      "source": [
        "- It's good practice to think about how your class might be used and to define a `__str__` method when creating objects that you may want to print later."
      ]
    },
    {
      "cell_type": "markdown",
      "metadata": {
        "id": "Aj8Xw91qwvq8"
      },
      "source": [
        "### **Documenting Functions, Classes and Methods with DocStrings**\n",
        "\n",
        "- The Python `help` function can be super helpful for easily pulling up documentation for classes and methods. We can call the `help` function on one of our classes, which will return some basic info about the methods defined in our class:"
      ]
    },
    {
      "cell_type": "code",
      "metadata": {
        "colab": {
          "base_uri": "https://localhost:8080/"
        },
        "id": "pr-_roxJwtC1",
        "outputId": "9c353ecb-d47d-4e78-8833-9123bc7cc31c"
      },
      "source": [
        "class Apple:\n",
        "  def __init__(self, color, flavor):\n",
        "    self.color = color\n",
        "    self.flavor = flavor\n",
        "  \n",
        "  def __str__(self):\n",
        "    return \"This apple is {} and its flavor is {}\".format(self.color, self.flavor)\n",
        "\n",
        "help(Apple)\n"
      ],
      "execution_count": null,
      "outputs": [
        {
          "output_type": "stream",
          "text": [
            "Help on class Apple in module __main__:\n",
            "\n",
            "class Apple(builtins.object)\n",
            " |  Apple(color, flavor)\n",
            " |  \n",
            " |  Methods defined here:\n",
            " |  \n",
            " |  __init__(self, color, flavor)\n",
            " |      Initialize self.  See help(type(self)) for accurate signature.\n",
            " |  \n",
            " |  __str__(self)\n",
            " |      Return str(self).\n",
            " |  \n",
            " |  ----------------------------------------------------------------------\n",
            " |  Data descriptors defined here:\n",
            " |  \n",
            " |  __dict__\n",
            " |      dictionary for instance variables (if defined)\n",
            " |  \n",
            " |  __weakref__\n",
            " |      list of weak references to the object (if defined)\n",
            "\n"
          ],
          "name": "stdout"
        }
      ]
    },
    {
      "cell_type": "markdown",
      "metadata": {
        "id": "HZw4jvN2RVpL"
      },
      "source": [
        "- We can add **documentation** to our **own classes, methods, and functions** using **docstrings**. A docstring is a s**hort text explanation** of what something does. You can add a docstring to a method, function, or class by first defining it, then adding a **description inside triple quotes**. \n",
        "- Let's look at an example: We have our function called `to_seconds` on the first line, followed by the docstring which is indented to the right and wrapped in triple quotes. Last up is the function body. Now, when we call the `help` function on our `to_seconds` function, we get a handy description of what the function does:"
      ]
    },
    {
      "cell_type": "code",
      "metadata": {
        "colab": {
          "base_uri": "https://localhost:8080/"
        },
        "id": "K_JDKu-hRd7S",
        "outputId": "c59ab8c0-6cb1-49d2-c12b-aae3b5da92a5"
      },
      "source": [
        "def to_seconds(hours, minutes, seconds):\n",
        "  \"\"\"Returns the amount of seconds in the given hours, minutes and seconds.\"\"\"\n",
        "  return hours*3600+minutes*60+seconds\n",
        "\n",
        "help(to_seconds)"
      ],
      "execution_count": null,
      "outputs": [
        {
          "output_type": "stream",
          "text": [
            "Help on function to_seconds in module __main__:\n",
            "\n",
            "to_seconds(hours, minutes, seconds)\n",
            "    Returns the amount of seconds in the given hours, minutes and seconds.\n",
            "\n"
          ],
          "name": "stdout"
        }
      ]
    },
    {
      "cell_type": "markdown",
      "metadata": {
        "id": "WlqSmoyFRq17"
      },
      "source": [
        "### **Classes and Methods Cheat Sheet**\n",
        "\n",
        "**Defining classes and methods**"
      ]
    },
    {
      "cell_type": "code",
      "metadata": {
        "id": "Acq3iQ9hSoH0"
      },
      "source": [
        "class ClassName:\n",
        "    def method_name(self, other_parameters):\n",
        "        body_of_method"
      ],
      "execution_count": null,
      "outputs": []
    },
    {
      "cell_type": "markdown",
      "metadata": {
        "id": "NxVE4dfASS-6"
      },
      "source": [
        "**Classes and Instances**  \n",
        "- **Classes** define the behavior of all instances of a specific class.\n",
        "- Each variable of a specific class is an **instance** or **object**.\n",
        "- Objects can have **attributes**, which store information about the object.\n",
        "- You can make objects do work by calling their **methods**. The **first parameter of the methods** (**self**) represents the **current instance**. Methods are just like functions, but they can only be used through a class.\n",
        "\n",
        "**Documenting classes, methods and functions**  \n",
        "You can add documentation to classes, methods, and functions by using **docstrings** right after the definition. Like this:"
      ]
    },
    {
      "cell_type": "code",
      "metadata": {
        "id": "yDVLuOPXTBo6"
      },
      "source": [
        "class ClassName:\n",
        "    \"\"\"Documentation for the class.\"\"\"\n",
        "    def method_name(self, other_parameters):\n",
        "        \"\"\"Documentation for the method.\"\"\"\n",
        "        body_of_method\n",
        "        \n",
        "def function_name(parameters):\n",
        "    \"\"\"Documentation for the function.\"\"\"\n",
        "    body_of_function"
      ],
      "execution_count": null,
      "outputs": []
    },
    {
      "cell_type": "markdown",
      "metadata": {
        "id": "jcEEqLiCTL7r"
      },
      "source": [
        "## **5.3: Code Re-use**\n",
        "### **Object inheritance**\n",
        "\n",
        "In object-oriented programming, the concept of inheritance allows you to **build relationships between objects**, **grouping together similar concepts** and **reducing code duplication**. Let's create a custom `Fruit class` with `color` and `flavor` attributes:"
      ]
    },
    {
      "cell_type": "code",
      "metadata": {
        "id": "Jio8i2JNVAsp"
      },
      "source": [
        "class Fruit:\n",
        "  def __init__(self,color,flavor):\n",
        "    self.color = color\n",
        "    self.flavor = flavor"
      ],
      "execution_count": null,
      "outputs": []
    },
    {
      "cell_type": "markdown",
      "metadata": {
        "id": "RYCn5fjgVNSa"
      },
      "source": [
        "We defined a `Fruit` class with a constructor for `color` and `flavor` attributes. Next, we'll define an `Apple` class along with a new `Grape` class, both of which we want to inherit properties and behaviors from the `Fruit` class:"
      ]
    },
    {
      "cell_type": "code",
      "metadata": {
        "id": "Eo0yWodoVTjS"
      },
      "source": [
        "class Apple(Fruit):\n",
        "  pass\n",
        "\n",
        "class Grape(Fruit):\n",
        "  pass"
      ],
      "execution_count": null,
      "outputs": []
    },
    {
      "cell_type": "markdown",
      "metadata": {
        "id": "nwQp6XWzVcw7"
      },
      "source": [
        "In Python, we use **parentheses** in the **class declaration** to have the **class inherit** from the `Fruit` class. So in this example, we’re instructing our computer that both the `Apple` class and `Grape` class inherit from the `Fruit` class. This means that they both have the **same constructor method** which sets the `color` and `flavor` attributes. We can now create instances of our `Apple` and `Grape` classes:"
      ]
    },
    {
      "cell_type": "code",
      "metadata": {
        "colab": {
          "base_uri": "https://localhost:8080/"
        },
        "id": "onE7dHrxVbta",
        "outputId": "ba8d558c-6440-4cb4-875f-bf5e84457a08"
      },
      "source": [
        "granny_smith = Apple(\"green\", \"tart\")\n",
        "carnelian = Grape(\"purple\", \"sweet\")\n",
        "print(granny_smith.flavor, carnelian.color)"
      ],
      "execution_count": null,
      "outputs": [
        {
          "output_type": "stream",
          "text": [
            "tart purple\n"
          ],
          "name": "stdout"
        }
      ]
    },
    {
      "cell_type": "markdown",
      "metadata": {
        "id": "MDhSUa2EV6Zw"
      },
      "source": [
        "**Inheritance** allows us to **define attributes or methods** that are **shared** by all types of fruit without having to define them in each fruit class individually. We can then also define specific attributes or methods that are only relevant for a specific type of fruit. Let's look at another example, this time with animals:"
      ]
    },
    {
      "cell_type": "code",
      "metadata": {
        "id": "kSK5hx_BV3_b"
      },
      "source": [
        "class Animal:\n",
        "  sound = \"\"\n",
        "  def __init__(self, name):\n",
        "    self.name = name\n",
        "  def speak(self):\n",
        "    print(\"{sound} I'm {name}! {sound}\".format(sound = self.sound, name = self.name))\n",
        "\n",
        "class Piglet(Animal):\n",
        "  sound = \"Oink!\"\n",
        "\n",
        "class Cow(Animal):\n",
        "  sound = \"Moooo\"\n"
      ],
      "execution_count": null,
      "outputs": []
    },
    {
      "cell_type": "markdown",
      "metadata": {
        "id": "vHM_ktCMWoyx"
      },
      "source": [
        "We defined a **parent class**, `Animal`, with two animal types inheriting from that class: `Piglet` and `Cow`. The parent `Animal` class has an attribute to store the sound the animal makes, and the constructor class takes the name that will be assigned to the instance when it's created. There is also the `speak` method, which will print the name of the animal along with the sound it makes. We defined the `Piglet` and `Cow` classes, which inherit from the `Animal` class, and we set the `sound` attributes for each animal type. Now, we can create instances of our `Piglet` and `Cow` classes and have them speak:"
      ]
    },
    {
      "cell_type": "code",
      "metadata": {
        "colab": {
          "base_uri": "https://localhost:8080/"
        },
        "id": "S85Yipw_WmJK",
        "outputId": "35847ffc-bc84-4dd5-e663-90f2b946c287"
      },
      "source": [
        "hamlet = Piglet(\"Hamlet\")\n",
        "hamlet.speak()"
      ],
      "execution_count": null,
      "outputs": [
        {
          "output_type": "stream",
          "text": [
            "Oink! I'm Hamlet! Oink!\n"
          ],
          "name": "stdout"
        }
      ]
    },
    {
      "cell_type": "code",
      "metadata": {
        "colab": {
          "base_uri": "https://localhost:8080/"
        },
        "id": "2Xh1jfwFW-vC",
        "outputId": "667c11aa-f7d5-4034-d9cc-9fe9600dade4"
      },
      "source": [
        "clarabella = Cow(\"Clarabella\")\n",
        "clarabella.speak()"
      ],
      "execution_count": null,
      "outputs": [
        {
          "output_type": "stream",
          "text": [
            "Moooo I'm Clarabella! Moooo\n"
          ],
          "name": "stdout"
        }
      ]
    },
    {
      "cell_type": "markdown",
      "metadata": {
        "id": "PXpy7E5wXPsw"
      },
      "source": [
        "### **Object composition**\n",
        "You can have a situation where **two different classes are related**, but there is **no inheritance going on**. This is referred to as **composition** -- where one class makes use of code contained in another class. \n",
        "\n",
        "For example, imagine we have a `Package` class which represents a software package. It contains attributes about the software package, like `name`, `version`, and `size`. We also have a `Repository` class which represents all the packages available for installation. While there’s no inheritance relationship between the two classes, they are related. The `Repository` class will contain a dictionary or list of `Packages` that are contained in the repository. Let's take a look at an example `Repository` class definition:\n"
      ]
    },
    {
      "cell_type": "code",
      "metadata": {
        "id": "0Feoy5utXJdj"
      },
      "source": [
        "class Repository:\n",
        "  def __init__(self):\n",
        "    ## always initialise mutable attributes in the constructor (otherwise they \n",
        "    ## change for all instances of a class)\n",
        "    self.packages = {} \n",
        "\n",
        "  def add_packages(self, package):\n",
        "    self.packages[package.name] = package\n",
        "  \n",
        "  def total_size(self):\n",
        "    result = 0\n",
        "    for package in self.packages.values():\n",
        "      result += package.total_size\n",
        "    return result \n",
        "  \n"
      ],
      "execution_count": null,
      "outputs": []
    },
    {
      "cell_type": "markdown",
      "metadata": {
        "id": "LKd3ebRbZPJ6"
      },
      "source": [
        "- In the *constructor method*, we **initialize the packages dictionary**, which will contain the package objects available in this repository instance. We initialize the dictionary in the constructor to ensure that every instance of the `Repository` class has its own dictionary.\n",
        "\n",
        "- We then define the `add_package` method, which takes a `Package` object as a parameter, and then adds it to our dictionary, using the `package.name` attribute as the key.\n",
        "\n",
        "- Finally, we define a `total_size` method which computes the total size of all packages contained in our repository. This method iterates through the values in our repository dictionary and adds together the size attributes from each `package` object contained in the dictionary, returning the total at the end. In this example, we’re making use of `Package` attributes within our `Repository` class. We’re also calling the `values()` method on our packages dictionary instance. **Composition** allows us to **use objects as attributes**, as well as **access all their attributes and methods**."
      ]
    },
    {
      "cell_type": "markdown",
      "metadata": {
        "id": "BEby8l6Y2ShV"
      },
      "source": [
        "Various exercises:"
      ]
    },
    {
      "cell_type": "code",
      "metadata": {
        "id": "7JQDU9cUpncR",
        "colab": {
          "base_uri": "https://localhost:8080/"
        },
        "outputId": "4bd2f813-93e3-4c4f-96c2-3d361a9a0d41"
      },
      "source": [
        "def first_and_last(message):\n",
        "  if (len(message)==0):\n",
        "    return True\n",
        "  first = message[0]\n",
        "  last = message[-1]\n",
        "  if (first == last): \n",
        "    return True\n",
        "  else:\n",
        "    return False\n",
        "    \n",
        "\n",
        "print(first_and_last(\"else\"))\n",
        "print(first_and_last(\"tree\"))\n",
        "print(first_and_last(\"\"))"
      ],
      "execution_count": null,
      "outputs": [
        {
          "output_type": "stream",
          "text": [
            "True\n",
            "False\n",
            "True\n"
          ],
          "name": "stdout"
        }
      ]
    },
    {
      "cell_type": "code",
      "metadata": {
        "colab": {
          "base_uri": "https://localhost:8080/"
        },
        "id": "MIcYMHAR6ZQl",
        "outputId": "3c2554d2-a2ac-431d-f938-19c353aedb16"
      },
      "source": [
        "def initials(phrase):\n",
        "  words = phrase.upper().split()\n",
        "  result = \"\"\n",
        "  for word in words:\n",
        "    result += word[0]\n",
        "  return result\n",
        "\n",
        "print(initials(\"Operating system\"))"
      ],
      "execution_count": null,
      "outputs": [
        {
          "output_type": "stream",
          "text": [
            "OS\n"
          ],
          "name": "stdout"
        }
      ]
    },
    {
      "cell_type": "markdown",
      "metadata": {
        "id": "fWCDbWhr9s3b"
      },
      "source": [
        "##### **Question 1**\n",
        "The is_palindrome function checks if a string is a palindrome. A palindrome is a string that can be equally read from left to right or right to left, omitting blank spaces, and ignoring capitalization. Examples of palindromes are words like kayak and radar, and phrases like \"Never Odd or Even\". Fill in the blanks in this function to return True if the passed string is a palindrome, False if not."
      ]
    },
    {
      "cell_type": "code",
      "metadata": {
        "colab": {
          "base_uri": "https://localhost:8080/"
        },
        "id": "MxxRvga_9zML",
        "outputId": "23c49d3e-a8ca-406a-d506-1aa98edc6981"
      },
      "source": [
        "def is_palindrome(input_string):\n",
        "  # We'll create two strings, to compare them\n",
        "  new_string = \"\"\n",
        "  reverse_string = \"\"\n",
        "  # Traverse through each letter of the input string\n",
        "  input_string = input_string.lower()\n",
        "  for letter in input_string:\n",
        "    # Add any non-blank letters to the \n",
        "    # end of one string, and to the front\n",
        "    # of the other string. \n",
        "    if letter != \"\":\n",
        "      new_string = new_string+letter\n",
        "      reverse_string = letter+reverse_string\n",
        "  # Compare the strings\n",
        "  if new_string.replace(\" \", \"\") == reverse_string.replace(\" \", \"\"):\n",
        "    return True\n",
        "  else: \n",
        "    return False\n",
        "\n",
        "print(is_palindrome(\"Never Odd or Even\"))"
      ],
      "execution_count": null,
      "outputs": [
        {
          "output_type": "stream",
          "text": [
            "neveroddoreven neveroddoreven\n",
            "True\n"
          ],
          "name": "stdout"
        }
      ]
    },
    {
      "cell_type": "code",
      "metadata": {
        "colab": {
          "base_uri": "https://localhost:8080/",
          "height": 35
        },
        "id": "eFqI4QDwCtpe",
        "outputId": "0f4839e0-cd05-4ab0-e004-bd4888c6dd9e"
      },
      "source": [
        "\"It's raining cats and cats\".endswith(\"cats\")\n",
        "sent = \"It's raining cats and cats\"\n",
        "old=\"cats\"\n",
        "new=\"dogs\"\n",
        "len(sent) - len(old)\n",
        "sent[:22]\n",
        "new_sent = sent[:22] + new\n",
        "new_sent"
      ],
      "execution_count": null,
      "outputs": [
        {
          "output_type": "execute_result",
          "data": {
            "application/vnd.google.colaboratory.intrinsic+json": {
              "type": "string"
            },
            "text/plain": [
              "\"It's raining cats and dogs\""
            ]
          },
          "metadata": {
            "tags": []
          },
          "execution_count": 32
        }
      ]
    },
    {
      "cell_type": "markdown",
      "metadata": {
        "id": "oV2cADDLpQe3"
      },
      "source": [
        "Quiz 1. The format_address function separates out parts of the address string into new strings: house_number and street_name, and returns: \"house number X on street named Y\". The format of the input string is: numeric house number, followed by the street name which may contain numbers, but never by themselves, and could be several words long. For example, \"123 Main Street\", \"1001 1st Ave\", or \"55 North Center Drive\". Fill in the gaps to complete this function."
      ]
    },
    {
      "cell_type": "code",
      "metadata": {
        "colab": {
          "base_uri": "https://localhost:8080/"
        },
        "id": "Koy_e4Y6pUXq",
        "outputId": "b4c73af7-6378-45ca-cb81-79bdc4edd79a"
      },
      "source": [
        "def format_address(address_string):\n",
        "  # Declare variables\n",
        "  house_number = \"\"\n",
        "  street_name = \"\"\n",
        "\n",
        "  # Separate the address string into parts\n",
        "  address_parts = address_string.split()\n",
        "\n",
        "  # Traverse through the address parts\n",
        "  for part in address_parts:\n",
        "    # Determine if the address part is the house number or part of the street name\n",
        "    if part.isnumeric():\n",
        "      house_number = part\n",
        "    else: \n",
        "      street_name = street_name+part\n",
        "      street_name = street_name + \" \"\n",
        "\n",
        "  return \"house number {} on street named {}\".format(house_number,street_name)\n",
        "\n",
        "print(format_address(\"123 Main Street\"))"
      ],
      "execution_count": null,
      "outputs": [
        {
          "output_type": "stream",
          "text": [
            "house number 123 on street named Main Street \n"
          ],
          "name": "stdout"
        }
      ]
    },
    {
      "cell_type": "code",
      "metadata": {
        "colab": {
          "base_uri": "https://localhost:8080/"
        },
        "id": "QjDm_3Yvqevv",
        "outputId": "8ca0bcbb-ba61-4682-fc87-9a3ff0423489"
      },
      "source": [
        "def skip_elements(elements):\n",
        "  final_list = []\n",
        "  for count, value in enumerate(elements):\n",
        "    if count % 2 == 0:\n",
        "      final_list.append(value)\n",
        "  return final_list\n",
        "\n",
        "print(skip_elements([\"a\", \"b\", \"c\", \"d\", \"e\", \"f\", \"g\"]))"
      ],
      "execution_count": null,
      "outputs": [
        {
          "output_type": "stream",
          "text": [
            "['a', 'c', 'e', 'g']\n"
          ],
          "name": "stdout"
        }
      ]
    },
    {
      "cell_type": "markdown",
      "metadata": {
        "id": "VxRvdWXbqeg2"
      },
      "source": [
        "Quiz 2. The highlight_word function changes the given word in a sentence to its upper-case version. For example, highlight_word(\"Have a nice day\", \"nice\") returns \"Have a NICE day\". Can you write this function in just one line?"
      ]
    },
    {
      "cell_type": "code",
      "metadata": {
        "id": "n7JIVzkovO7x"
      },
      "source": [
        "def highlight_word(sentence, word):\n",
        "\treturn()\n",
        "\n",
        "print(highlight_word(\"Have a nice day\", \"nice\"))\n",
        "print(highlight_word(\"Shhh, don't be so loud!\", \"loud\"))\n",
        "print(highlight_word(\"Automating with Python is fun\", \"fun\"))"
      ],
      "execution_count": null,
      "outputs": []
    },
    {
      "cell_type": "code",
      "metadata": {
        "colab": {
          "base_uri": "https://localhost:8080/"
        },
        "id": "FY9sox3avzjL",
        "outputId": "f6268574-3e15-43b6-c209-7a5e333f1ffa"
      },
      "source": [
        "def highlight_word(sentence, word):\n",
        "\treturn(sentence.index(word), len(word))\n",
        " \n",
        "print(highlight_word(\"Have a nice day\", \"nice\"))"
      ],
      "execution_count": null,
      "outputs": [
        {
          "output_type": "stream",
          "text": [
            "(7, 4)\n"
          ],
          "name": "stdout"
        }
      ]
    },
    {
      "cell_type": "code",
      "metadata": {
        "colab": {
          "base_uri": "https://localhost:8080/"
        },
        "id": "Mj3JaeobwD_i",
        "outputId": "72fe633b-6a6b-464e-cdd5-1d703463b27a"
      },
      "source": [
        "def highlight_word(sentence, word):\n",
        "\treturn(sentence[:sentence.index(word)]+word.upper()+sentence[sentence.index(word)+len(word):])\n",
        " \n",
        "print(highlight_word(\"Have a nice day\", \"nice\"))"
      ],
      "execution_count": null,
      "outputs": [
        {
          "output_type": "stream",
          "text": [
            "Have a NICE day\n"
          ],
          "name": "stdout"
        }
      ]
    },
    {
      "cell_type": "code",
      "metadata": {
        "colab": {
          "base_uri": "https://localhost:8080/"
        },
        "id": "Qropa1wNxEIA",
        "outputId": "c4528c82-3449-4870-aa3a-a84675b0a628"
      },
      "source": [
        "def odd_numbers(n):\n",
        "  return [x for x in range(0,n+1) if x % 2 !=0]\n",
        "\n",
        "print(odd_numbers(5))  # Should print [1, 3, 5]"
      ],
      "execution_count": null,
      "outputs": [
        {
          "output_type": "stream",
          "text": [
            "[1, 3, 5]\n"
          ],
          "name": "stdout"
        }
      ]
    },
    {
      "cell_type": "markdown",
      "metadata": {
        "id": "Lq3l5xEvzNWd"
      },
      "source": [
        "Question 3.\n",
        "A professor with two assistants, Jamie and Drew, wants an attendance list of the students, in the order that they arrived in the classroom. Drew was the first one to note which students arrived, and then Jamie took over. After the class, they each entered their lists into the computer and emailed them to the professor, who needs to combine them into one, in the order of each student's arrival. Jamie emailed a follow-up, saying that her list is in reverse order. Complete the steps to combine them into one list as follows: the contents of Drew's list, followed by Jamie's list in reverse order, to get an accurate list of the students as they arrived.\n",
        "\n"
      ]
    },
    {
      "cell_type": "code",
      "metadata": {
        "colab": {
          "base_uri": "https://localhost:8080/"
        },
        "id": "QEv9GqHezMeG",
        "outputId": "4c919eeb-a379-47c6-bd23-f9549b09b268"
      },
      "source": [
        "def combine_lists(list1, list2):\n",
        "  # Generate a new list containing the elements of list2\n",
        "  # Followed by the elements of list1 in reverse order\n",
        "  list1_rev = list1[::-1]\n",
        "  return list2+list1_rev\n",
        "  \n",
        "\n",
        "\n",
        "  \n",
        "\t\n",
        "Jamies_list = [\"Alice\", \"Cindy\", \"Bobby\", \"Jan\", \"Peter\"]\n",
        "Drews_list = [\"Mike\", \"Carol\", \"Greg\", \"Marcia\"]\n",
        "\n",
        "print(combine_lists(Jamies_list, Drews_list))"
      ],
      "execution_count": null,
      "outputs": [
        {
          "output_type": "stream",
          "text": [
            "['Mike', 'Carol', 'Greg', 'Marcia', 'Peter', 'Jan', 'Bobby', 'Cindy', 'Alice']\n"
          ],
          "name": "stdout"
        }
      ]
    },
    {
      "cell_type": "markdown",
      "metadata": {
        "id": "PURmk6cD1lwV"
      },
      "source": [
        "Question 4.\n",
        "Use a list comprehension to create a list of squared numbers (n*n). The function receives the variables start and end, and returns a list of squares of consecutive numbers between start and end inclusively.\n",
        "For example, squares(2, 3) should return [4, 9]."
      ]
    },
    {
      "cell_type": "code",
      "metadata": {
        "colab": {
          "base_uri": "https://localhost:8080/"
        },
        "id": "0eKLTlw1zW_u",
        "outputId": "c76b28a5-7c4e-43b5-f138-e71a2b546e06"
      },
      "source": [
        "def squares(start, end):\n",
        "  return [x**2 for x in range(start,end+1) ]\n",
        "\n",
        "print(squares(2, 3)) # Should be [4, 9]\n",
        "print(squares(1, 5)) # Should be [1, 4, 9, 16, 25]\n",
        "print(squares(0, 10)) # Should be [0, 1, 4, 9, 16, 25, 36, 49, 64, 81, 100]"
      ],
      "execution_count": null,
      "outputs": [
        {
          "output_type": "stream",
          "text": [
            "[4, 9]\n",
            "[1, 4, 9, 16, 25]\n",
            "[0, 1, 4, 9, 16, 25, 36, 49, 64, 81, 100]\n"
          ],
          "name": "stdout"
        }
      ]
    },
    {
      "cell_type": "markdown",
      "metadata": {
        "id": "y0rixxPT2Af1"
      },
      "source": [
        "Question 5.\n",
        "Complete the code to iterate through the keys and values of the car_prices dictionary, printing out some information about each one."
      ]
    },
    {
      "cell_type": "code",
      "metadata": {
        "colab": {
          "base_uri": "https://localhost:8080/"
        },
        "id": "8PIUdjkb2DlS",
        "outputId": "ea94bd98-3ab7-4a8e-9459-f5eabf27098c"
      },
      "source": [
        "def car_listing(car_prices):\n",
        "  result = \"\"\n",
        "  for key, value in car_prices.items():\n",
        "    result += \"{} costs {} dollars\".format(key, value)+ \"\\n\"\n",
        "  return result\n",
        "\n",
        "print(car_listing({\"Kia Soul\":19000, \"Lamborghini Diablo\":55000, \"Ford Fiesta\":13000, \"Toyota Prius\":24000}))"
      ],
      "execution_count": null,
      "outputs": [
        {
          "output_type": "stream",
          "text": [
            "Kia Soul costs 19000 dollars\n",
            "Lamborghini Diablo costs 55000 dollars\n",
            "Ford Fiesta costs 13000 dollars\n",
            "Toyota Prius costs 24000 dollars\n",
            "\n"
          ],
          "name": "stdout"
        }
      ]
    },
    {
      "cell_type": "markdown",
      "metadata": {
        "id": "NifgKHpL3qFF"
      },
      "source": [
        "Question 6.\n",
        "Taylor and Rory are hosting a party. They sent out invitations, and each one collected responses into dictionaries, with names of their friends and how many guests each friend is bringing. Each dictionary is a partial list, but Rory's list has more current information about the number of guests. Fill in the blanks to combine both dictionaries into one, with each friend listed only once, and the number of guests from Rory's dictionary taking precedence, if a name is included in both dictionaries. Then print the resulting dictionary."
      ]
    },
    {
      "cell_type": "code",
      "metadata": {
        "colab": {
          "base_uri": "https://localhost:8080/"
        },
        "id": "K7bwxcB43tnk",
        "outputId": "d05222b0-c075-4ef7-843a-9839e1653187"
      },
      "source": [
        "def combine_guests(guests1, guests2):\n",
        "  # Combine both dictionaries into one, with each key listed \n",
        "  # only once, and the value from guests1 taking precedence\n",
        "  guests2.update(guests1)\n",
        "  return guests2\n",
        "\n",
        "Rorys_guests = { \"Adam\":2, \"Brenda\":3, \"David\":1, \"Jose\":3, \"Charlotte\":2, \"Terry\":1, \"Robert\":4}\n",
        "Taylors_guests = { \"David\":4, \"Nancy\":1, \"Robert\":2, \"Adam\":1, \"Samantha\":3, \"Chris\":5}\n",
        "\n",
        "print(combine_guests(Rorys_guests, Taylors_guests))"
      ],
      "execution_count": null,
      "outputs": [
        {
          "output_type": "stream",
          "text": [
            "{'David': 1, 'Nancy': 1, 'Robert': 4, 'Adam': 2, 'Samantha': 3, 'Chris': 5, 'Brenda': 3, 'Jose': 3, 'Charlotte': 2, 'Terry': 1}\n"
          ],
          "name": "stdout"
        }
      ]
    },
    {
      "cell_type": "markdown",
      "metadata": {
        "id": "G7lZQWMD6SVs"
      },
      "source": [
        "Q7. Use a dictionary to count the frequency of letters in the input string. Only letters should be counted, not blank spaces, numbers, or punctuation. Upper case should be considered the same as lower case. For example, count_letters(\"This is a sentence.\") should return {'t': 2, 'h': 1, 'i': 2, 's': 3, 'a': 1, 'e': 3, 'n': 2, 'c': 1}."
      ]
    },
    {
      "cell_type": "code",
      "metadata": {
        "colab": {
          "base_uri": "https://localhost:8080/"
        },
        "id": "3mSiPGyl6SH9",
        "outputId": "571655c3-171f-4854-a0c0-4251c78d9baa"
      },
      "source": [
        "def count_letters(text):\n",
        "  result = {}\n",
        "  text = text.lower()\n",
        "  # Go through each letter in the text\n",
        "  for letter in text:\n",
        "    # Check if the letter needs to be counted or not\n",
        "    if letter.isalpha():\n",
        "      if letter not in result:\n",
        "        result[letter] = 0\n",
        "    # Add or increment the value in the dictionary\n",
        "      result[letter] +=1\n",
        "\n",
        "  return result\n",
        "\n",
        "print(count_letters(\"AaBbCc\"))\n",
        "# Should be {'a': 2, 'b': 2, 'c': 2}\n",
        "\n",
        "print(count_letters(\"Math is fun! 2+2=4\"))\n",
        "# Should be {'m': 1, 'a': 1, 't': 1, 'h': 1, 'i': 1, 's': 1, 'f': 1, 'u': 1, 'n': 1}\n",
        "\n",
        "print(count_letters(\"This is a sentence.\"))\n",
        "# Should be {'t': 2, 'h': 1, 'i': 2, 's': 3, 'a': 1, 'e': 3, 'n': 2, 'c': 1}"
      ],
      "execution_count": null,
      "outputs": [
        {
          "output_type": "stream",
          "text": [
            "{'a': 2, 'b': 2, 'c': 2}\n",
            "{'m': 1, 'a': 1, 't': 1, 'h': 1, 'i': 1, 's': 1, 'f': 1, 'u': 1, 'n': 1}\n",
            "{'t': 2, 'h': 1, 'i': 2, 's': 3, 'a': 1, 'e': 3, 'n': 2, 'c': 1}\n"
          ],
          "name": "stdout"
        }
      ]
    }
  ]
}